{
  "nbformat": 4,
  "nbformat_minor": 0,
  "metadata": {
    "colab": {
      "provenance": []
    },
    "kernelspec": {
      "name": "python3",
      "display_name": "Python 3"
    },
    "language_info": {
      "name": "python"
    }
  },
  "cells": [
    {
      "cell_type": "code",
      "execution_count": null,
      "metadata": {
        "colab": {
          "base_uri": "https://localhost:8080/"
        },
        "id": "Xd1fxoU-wT0v",
        "outputId": "aee2ec7a-4b5e-4bd2-b05b-921070b08479"
      },
      "outputs": [
        {
          "output_type": "stream",
          "name": "stdout",
          "text": [
            "Sentence: Time flies like an arrow\n",
            "POS Tags: Noun Verb Preposition Determiner Noun\n"
          ]
        }
      ],
      "source": [
        "import numpy as np\n",
        "\n",
        "# Define the states (POS tags)\n",
        "states = [\"Noun\", \"Verb\", \"Preposition\", \"Determiner\"]\n",
        "\n",
        "# Define the words (observations)\n",
        "observations = [\"Time\", \"flies\", \"like\", \"an\", \"arrow\"]\n",
        "\n",
        "# Transition probabilities (probability of POS tag following another)\n",
        "transition_prob = {\n",
        "    \"Noun\": {\"Noun\": 0.1, \"Verb\": 0.3, \"Preposition\": 0.1, \"Determiner\": 0.0},\n",
        "    \"Verb\": {\"Noun\": 0.4, \"Verb\": 0.2, \"Preposition\": 0.5, \"Determiner\": 0.0},\n",
        "    \"Preposition\": {\"Noun\": 0.7, \"Verb\": 0.0, \"Preposition\": 0.1, \"Determiner\": 0.2},\n",
        "    \"Determiner\": {\"Noun\": 0.9, \"Verb\": 0.0, \"Preposition\": 0.0, \"Determiner\": 0.0},\n",
        "}\n",
        "\n",
        "# Emission probabilities (probability of word being a certain POS tag)\n",
        "emission_prob = {\n",
        "    \"Noun\": {\"Time\": 0.6, \"flies\": 0.2, \"like\": 0.1, \"an\": 0.0, \"arrow\": 0.9},\n",
        "    \"Verb\": {\"Time\": 0.1, \"flies\": 0.8, \"like\": 0.2, \"an\": 0.0, \"arrow\": 0.1},\n",
        "    \"Preposition\": {\"Time\": 0.0, \"flies\": 0.0, \"like\": 0.7, \"an\": 0.0, \"arrow\": 0.0},\n",
        "    \"Determiner\": {\"Time\": 0.0, \"flies\": 0.0, \"like\": 0.0, \"an\": 1.0, \"arrow\": 0.0},\n",
        "}\n",
        "\n",
        "# Initial probabilities (probability of a POS tag being the first word)\n",
        "initial_prob = {\"Noun\": 0.5, \"Verb\": 0.2, \"Preposition\": 0.1, \"Determiner\": 0.2}\n",
        "\n",
        "# Viterbi Algorithm Implementation\n",
        "def viterbi_algorithm(observations, states, initial_prob, transition_prob, emission_prob):\n",
        "    n = len(observations)\n",
        "    m = len(states)\n",
        "\n",
        "    # Initialize the DP table and backpointer\n",
        "    viterbi = np.zeros((m, n))\n",
        "    backpointer = np.zeros((m, n), dtype=int)\n",
        "\n",
        "    # Initialize the first column (starting probabilities)\n",
        "    for i, state in enumerate(states):\n",
        "        viterbi[i, 0] = initial_prob[state] * emission_prob[state].get(observations[0], 0)\n",
        "\n",
        "    # Fill the DP table\n",
        "    for t in range(1, n):\n",
        "        for i, state in enumerate(states):\n",
        "            max_prob, max_state = max(\n",
        "                (viterbi[j, t - 1] * transition_prob[prev_state].get(state, 0) * emission_prob[state].get(observations[t], 0), j)\n",
        "                for j, prev_state in enumerate(states)\n",
        "            )\n",
        "            viterbi[i, t] = max_prob\n",
        "            backpointer[i, t] = max_state\n",
        "\n",
        "    # Backtrace to find the best path\n",
        "    best_last_state = np.argmax(viterbi[:, n - 1])\n",
        "    best_path = [best_last_state]\n",
        "\n",
        "    for t in range(n - 1, 0, -1):\n",
        "        best_last_state = backpointer[best_last_state, t]\n",
        "        best_path.insert(0, best_last_state)\n",
        "\n",
        "    # Convert indices to state names\n",
        "    best_path_states = [states[i] for i in best_path]\n",
        "\n",
        "    return best_path_states\n",
        "\n",
        "# Run the Viterbi Algorithm\n",
        "best_tags = viterbi_algorithm(observations, states, initial_prob, transition_prob, emission_prob)\n",
        "\n",
        "# Print the results\n",
        "print(\"Sentence:\", \" \".join(observations))\n",
        "print(\"POS Tags:\", \" \".join(best_tags))\n"
      ]
    },
    {
      "cell_type": "code",
      "source": [
        "from sklearn.metrics import confusion_matrix, classification_report\n",
        "import numpy as np\n",
        "\n",
        "# Define the actual (true) POS tags from the dataset\n",
        "true_tags = [\"Noun\", \"Verb\", \"Preposition\", \"Determiner\", \"Noun\"]  # Ground truth\n",
        "\n",
        "# Predicted tags from the HMM model\n",
        "predicted_tags = [\"Noun\", \"Verb\", \"Preposition\", \"Determiner\", \"Noun\"]\n",
        "\n",
        "# Compute confusion matrix\n",
        "labels = [\"Noun\", \"Verb\", \"Preposition\", \"Determiner\"]\n",
        "cm = confusion_matrix(true_tags, predicted_tags, labels=labels)\n",
        "\n",
        "# Print confusion matrix\n",
        "print(\"Confusion Matrix:\")\n",
        "print(cm)\n",
        "\n",
        "# Generate a classification report\n",
        "print(\"\\nClassification Report:\")\n",
        "print(classification_report(true_tags, predicted_tags, target_names=labels))\n"
      ],
      "metadata": {
        "id": "o2PHknvFnU-4",
        "outputId": "20dece1d-2429-493c-81fc-32895fc8b65a",
        "colab": {
          "base_uri": "https://localhost:8080/"
        }
      },
      "execution_count": null,
      "outputs": [
        {
          "output_type": "stream",
          "name": "stdout",
          "text": [
            "Confusion Matrix:\n",
            "[[2 0 0 0]\n",
            " [0 1 0 0]\n",
            " [0 0 1 0]\n",
            " [0 0 0 1]]\n",
            "\n",
            "Classification Report:\n",
            "              precision    recall  f1-score   support\n",
            "\n",
            "        Noun       1.00      1.00      1.00         1\n",
            "        Verb       1.00      1.00      1.00         2\n",
            " Preposition       1.00      1.00      1.00         1\n",
            "  Determiner       1.00      1.00      1.00         1\n",
            "\n",
            "    accuracy                           1.00         5\n",
            "   macro avg       1.00      1.00      1.00         5\n",
            "weighted avg       1.00      1.00      1.00         5\n",
            "\n"
          ]
        }
      ]
    },
    {
      "cell_type": "code",
      "source": [
        "def compute_accuracy(true_tags, predicted_tags):\n",
        "    correct_predictions = sum(t1 == t2 for t1, t2 in zip(true_tags, predicted_tags))\n",
        "    accuracy = correct_predictions / len(true_tags)\n",
        "    return accuracy\n",
        "\n",
        "# Compute accuracy\n",
        "accuracy = compute_accuracy(true_tags, predicted_tags)\n",
        "\n",
        "print(f\"\\nState Accuracy: {accuracy:.2%}\")\n"
      ],
      "metadata": {
        "id": "EfkgdALQnZXC",
        "outputId": "84ffeab2-2bab-448b-e75c-0ccf7618c5c8",
        "colab": {
          "base_uri": "https://localhost:8080/"
        }
      },
      "execution_count": null,
      "outputs": [
        {
          "output_type": "stream",
          "name": "stdout",
          "text": [
            "\n",
            "State Accuracy: 100.00%\n"
          ]
        }
      ]
    }
  ]
}